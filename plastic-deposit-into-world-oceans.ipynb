{
 "cells": [
  {
   "cell_type": "code",
   "execution_count": 1,
   "metadata": {},
   "outputs": [],
   "source": [
    "# Plastic Deposit into World's Oceans\n",
    "# Barbara Ulitsky - September 2nd, 2021\n",
    "\n",
    "# In this notebook we explore what are the largest sources of plastic deposit into the world's oceans.\n",
    "# We will show the top 10 rivers where the most plastic enters from into the oceans and the top countries."
   ]
  },
  {
   "cell_type": "code",
   "execution_count": 4,
   "metadata": {},
   "outputs": [
    {
     "ename": "NameError",
     "evalue": "name 'dirname' is not defined",
     "output_type": "error",
     "traceback": [
      "\u001b[1;31m---------------------------------------------------------------------------\u001b[0m",
      "\u001b[1;31mNameError\u001b[0m                                 Traceback (most recent call last)",
      "Cell \u001b[1;32mIn[4], line 18\u001b[0m\n\u001b[0;32m     15\u001b[0m     \u001b[38;5;28;01mfor\u001b[39;00m filename \u001b[38;5;129;01min\u001b[39;00m filenames:\n\u001b[0;32m     16\u001b[0m         \u001b[38;5;28mprint\u001b[39m(os\u001b[38;5;241m.\u001b[39mpath\u001b[38;5;241m.\u001b[39mjoin(dirname, filename))\n\u001b[1;32m---> 18\u001b[0m pp \u001b[38;5;241m=\u001b[39m pd\u001b[38;5;241m.\u001b[39mread_csv(os\u001b[38;5;241m.\u001b[39mpath\u001b[38;5;241m.\u001b[39mjoin(dirname, filename))\n",
      "\u001b[1;31mNameError\u001b[0m: name 'dirname' is not defined"
     ]
    }
   ],
   "source": [
    "# Set up\n",
    "# This Python 3 environment comes with many helpful analytics libraries installed\n",
    "# It is defined by the kaggle/python Docker image: https://github.com/kaggle/docker-python\n",
    "# For example, here's several helpful packages to load\n",
    "\n",
    "import numpy as np # linear algebra\n",
    "import pandas as pd # data processing, CSV file I/O (e.g. pd.read_csv)\n",
    "import matplotlib.pyplot as plt\n",
    "\n",
    "# Input data files are available in the read-only \"../input/\" directory\n",
    "# For example, running this (by clicking run or pressing Shift+Enter) will list all files under the input directory\n",
    "\n",
    "import os\n",
    "for dirname, _, filenames in os.walk('/kaggle/input'):\n",
    "    for filename in filenames:\n",
    "        print(os.path.join(dirname, filename))\n",
    "\n",
    "pp = pd.read_csv(os.path.join(dirname, filename))"
   ]
  },
  {
   "cell_type": "code",
   "execution_count": null,
   "metadata": {},
   "outputs": [],
   "source": [
    "chart_color = 'lightsteelblue'\n",
    "\n",
    "pp.rename(columns = {'Entity': 'River'}, inplace = True)\n",
    "pp.head()"
   ]
  },
  {
   "cell_type": "code",
   "execution_count": null,
   "metadata": {},
   "outputs": [],
   "source": [
    "NumRivers = len(pp['River'].unique())\n",
    "NumCountries = len(pp['Country'].unique())\n",
    "\n",
    "print('In our dataset we have', NumRivers, 'rivers in' , NumCountries, 'countries.')\n",
    "\n",
    "max_rivers_in_countries = pp.groupby('River').count()['Country'].max()\n",
    "print('Every river belongs only to', max_rivers_in_countries, 'country.\\n')\n",
    "\n",
    "print('The total share of plastic in our dataset adds up to about', '{:2.0f}%'.format(pp['sharePlastics'].sum()),\n",
    "     ', which could mean that rivers are not the only source \\n \\\n",
    "     of plastic pollution in the oceans or that we dont have all the countries, or something else.')"
   ]
  },
  {
   "cell_type": "code",
   "execution_count": null,
   "metadata": {},
   "outputs": [],
   "source": [
    "# Top rivers where the most plastic in the oceans originates from and the countries they are in :-(\n",
    "\n",
    "# input here the number of top rivers you want to see, from 1 to 50\n",
    "TopXRivers = 10\n",
    "\n",
    "TopXRivers = min(max(TopXRivers, 1), NumRivers)\n",
    "WorstRivers = pp.sort_values(by='sharePlastics', ascending=False)\n",
    "WorstRivers = WorstRivers.head(TopXRivers)\n",
    "\n",
    "WorstRivers_bar = WorstRivers.sort_values(by='sharePlastics', ascending=True)\n",
    "fig = plt.figure(figsize=(15,10))\n",
    "chart_title = 'Top ' + str(TopXRivers) + ' rivers where plastic comes from into the oceans'\n",
    "plt.title(chart_title, fontsize=16)\n",
    "plt.xlabel('% share of plastic')\n",
    "plt.ylabel('River')\n",
    "\n",
    "plt.barh(WorstRivers_bar['River'], WorstRivers_bar['sharePlastics'], color=chart_color)\n",
    "plt.show()\n",
    "print()\n",
    "print()\n",
    "\n",
    "WorstRivers['sharePlastics'] = WorstRivers['sharePlastics'].map('{:,.2f}%'.format)\n",
    "WorstRivers.set_index(keys=['River', 'Country'], inplace=True)\n",
    "WorstRivers"
   ]
  },
  {
   "cell_type": "code",
   "execution_count": null,
   "metadata": {},
   "outputs": [],
   "source": [
    "# Top countries that dump the most plastic into world's oceans :-(\n",
    "\n",
    "# input here the number of top countries you want to see from 1 to 16\n",
    "TopXCountries = 10\n",
    "\n",
    "TopXCountries = min(max(TopXCountries, 1), NumCountries)\n",
    "WorstCountries = pp.groupby('Country', as_index=False).sum().sort_values(by='sharePlastics', ascending=False)\n",
    "WorstCountries = WorstCountries.head(TopXCountries)\n",
    "WorstCountries_bar = WorstCountries.sort_values(by='sharePlastics', ascending=True)\n",
    "\n",
    "fig = plt.figure(figsize=(15,10))\n",
    "chart_title = 'Top ' + str(TopXCountries) + ' countries where plastic comes from into the oceans'\n",
    "plt.title(chart_title, fontsize=16)\n",
    "plt.xlabel('% share of plastic')\n",
    "plt.ylabel('Country')\n",
    "\n",
    "plt.barh(WorstCountries_bar['Country'], WorstCountries_bar['sharePlastics'], color=chart_color)\n",
    "plt.show()\n",
    "print()\n",
    "print()\n",
    "\n",
    "WorstCountries['sharePlastics'] = WorstCountries['sharePlastics'].map('{:,.2f}%'.format)\n",
    "WorstCountries.set_index(keys='Country', inplace=True)\n",
    "WorstCountries"
   ]
  },
  {
   "cell_type": "code",
   "execution_count": null,
   "metadata": {},
   "outputs": [],
   "source": [
    "# The number of rivers in each country varies widely.\n",
    "# For example, the Philippines has 19 rivers, a lot more than other countries and it is the largest source of plastic in oceans.\n",
    "# In order to represent the countries more fairly, we will calculate the countries share of plastic per river.\n",
    "\n",
    "NumRivers_per_Country = pp.groupby('Country')['River'].count().sort_values(ascending=False)\n",
    "bins = list(range(0,21))\n",
    "\n",
    "fig = plt.figure(figsize=(15,5))\n",
    "plt.xticks(bins)\n",
    "plt.yticks(list(range(11)))\n",
    "plt.title('Histogram of number of rivers flowing through a country')\n",
    "plt.xlabel('Number of rivers in a country')\n",
    "plt.ylabel('Number of countries')\n",
    "\n",
    "plt.hist(NumRivers_per_Country, bins, align='mid', rwidth=0.9, color=chart_color)\n",
    "plt.show()"
   ]
  },
  {
   "cell_type": "code",
   "execution_count": null,
   "metadata": {},
   "outputs": [],
   "source": [
    "# make sure to run this cell only once in a session\n",
    "\n",
    "WorstCountries = pp.groupby('Country', as_index=False).sum().sort_values(by='sharePlastics', ascending=False)\n",
    "WorstCountries_per_River = WorstCountries \\\n",
    "                        .join(NumRivers_per_Country, how='inner', on='Country')\\\n",
    "                        .rename(columns={'River': 'NumRivers_per_Country'})"
   ]
  },
  {
   "cell_type": "code",
   "execution_count": null,
   "metadata": {},
   "outputs": [],
   "source": [
    "WorstCountries_per_River['sharePlastics_per_River'] = \\\n",
    "WorstCountries_per_River['sharePlastics'] / WorstCountries_per_River['NumRivers_per_Country']\n",
    "WorstCountries_per_River = WorstCountries_per_River.nlargest(n=TopXCountries, columns=['sharePlastics_per_River'], keep='all')"
   ]
  },
  {
   "cell_type": "code",
   "execution_count": null,
   "metadata": {},
   "outputs": [],
   "source": [
    "WorstCountries_per_River_bar = WorstCountries_per_River.sort_values(by='sharePlastics_per_River', ascending=False)\n",
    "WorstCountries_per_River_bar = WorstCountries_per_River_bar.head(TopXCountries)\n",
    "\n",
    "WorstCountries_per_River_bar = WorstCountries_per_River_bar.sort_values(by='sharePlastics_per_River', ascending=True)\n",
    "\n",
    "fig = plt.figure(figsize=(15,10))\n",
    "chart_title = 'Top ' + str(TopXCountries) + ' Countries where the most plastic comes from into the oceans adjusted per river'\n",
    "plt.title(chart_title, fontsize=16)\n",
    "plt.xlabel('% share of plastic per river')\n",
    "plt.ylabel('Country')\n",
    "\n",
    "plt.barh(WorstCountries_per_River_bar['Country'], WorstCountries_per_River_bar['sharePlastics_per_River'], color=chart_color)\n",
    "plt.show()\n",
    "print()\n",
    "print()\n",
    "\n",
    "WorstCountries_per_River.set_index(keys='Country', inplace=True)\n",
    "WorstCountries_per_River['sharePlastics'] = WorstCountries_per_River['sharePlastics'].map('{:,.2f}%'.format)\n",
    "WorstCountries_per_River['sharePlastics_per_River'] = WorstCountries_per_River['sharePlastics_per_River'].map('{:,.2f}%'.format)\n",
    "WorstCountries_per_River"
   ]
  },
  {
   "cell_type": "code",
   "execution_count": null,
   "metadata": {},
   "outputs": [],
   "source": [
    "WorstCountries_sharePlastics = list(WorstCountries_bar.sort_values(by='sharePlastics', ascending=False)['Country'])"
   ]
  },
  {
   "cell_type": "code",
   "execution_count": null,
   "metadata": {},
   "outputs": [],
   "source": [
    "WorstCountries_sharePlastics_per_River = list(WorstCountries_per_River_bar.sort_values(by='sharePlastics_per_River', ascending=False)['Country'])"
   ]
  },
  {
   "cell_type": "code",
   "execution_count": null,
   "metadata": {},
   "outputs": [],
   "source": [
    "print('Now we can see how the countries rankings changed from when we considered an absolute share of countries plastic pollution')\n",
    "print('vs share of plastic pollution per river.')\n",
    "print('The worst 3 polluting countries stayed in the worst 3 places using both calculation methods.')\n",
    "print('Most of the worst top 10 countries stayed in the top 10, though some changed their relative rankings within the top 10.')\n",
    "print()\n",
    "print()\n",
    "Countries_Rankings = pd.DataFrame({'Worst Countries by total share of plastic pollution': WorstCountries_sharePlastics, \\\n",
    "                     'Worst Countries by share of plastic pollution per river': WorstCountries_sharePlastics_per_River})\n",
    "Countries_Rankings"
   ]
  }
 ],
 "metadata": {
  "kernelspec": {
   "display_name": "base",
   "language": "python",
   "name": "python3"
  },
  "language_info": {
   "codemirror_mode": {
    "name": "ipython",
    "version": 3
   },
   "file_extension": ".py",
   "mimetype": "text/x-python",
   "name": "python",
   "nbconvert_exporter": "python",
   "pygments_lexer": "ipython3",
   "version": "3.11.5"
  }
 },
 "nbformat": 4,
 "nbformat_minor": 2
}

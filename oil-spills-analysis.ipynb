{
 "cells": [
  {
   "cell_type": "code",
   "execution_count": 1,
   "metadata": {},
   "outputs": [],
   "source": [
    "# This Python 3 environment comes with many helpful analytics libraries installed\n",
    "# It is defined by the kaggle/python Docker image: https://github.com/kaggle/docker-python\n",
    "# For example, here's several helpful packages to load\n",
    "\n",
    "import numpy as np # linear algebra\n",
    "import pandas as pd # data processing, CSV file I/O (e.g. pd.read_csv)\n",
    "\n",
    "# Input data files are available in the read-only \"../input/\" directory\n",
    "# For example, running this (by clicking run or pressing Shift+Enter) will list all files under the input directory\n",
    "\n",
    "import os\n",
    "for dirname, _, filenames in os.walk('/kaggle/input'):\n",
    "    for filename in filenames:\n",
    "        print(os.path.join(dirname, filename))\n",
    "\n",
    "# You can write up to 20GB to the current directory (/kaggle/working/) that gets preserved as output when you create a version using \"Save & Run All\" \n",
    "# You can also write temporary files to /kaggle/temp/, but they won't be saved outside of the current session"
   ]
  },
  {
   "cell_type": "code",
   "execution_count": 3,
   "metadata": {},
   "outputs": [
    {
     "ename": "ModuleNotFoundError",
     "evalue": "No module named 'plotly'",
     "output_type": "error",
     "traceback": [
      "\u001b[1;31m---------------------------------------------------------------------------\u001b[0m",
      "\u001b[1;31mModuleNotFoundError\u001b[0m                       Traceback (most recent call last)",
      "Cell \u001b[1;32mIn[3], line 12\u001b[0m\n\u001b[0;32m      9\u001b[0m sns\u001b[38;5;241m.\u001b[39mset_style(\u001b[38;5;124m'\u001b[39m\u001b[38;5;124mwhitegrid\u001b[39m\u001b[38;5;124m'\u001b[39m)\n\u001b[0;32m     10\u001b[0m get_ipython()\u001b[38;5;241m.\u001b[39mrun_line_magic(\u001b[38;5;124m'\u001b[39m\u001b[38;5;124mmatplotlib\u001b[39m\u001b[38;5;124m'\u001b[39m, \u001b[38;5;124m'\u001b[39m\u001b[38;5;124minline\u001b[39m\u001b[38;5;124m'\u001b[39m)\n\u001b[1;32m---> 12\u001b[0m \u001b[38;5;28;01mimport\u001b[39;00m \u001b[38;5;21;01mplotly\u001b[39;00m\n\u001b[0;32m     13\u001b[0m \u001b[38;5;28;01mimport\u001b[39;00m \u001b[38;5;21;01mplotly\u001b[39;00m\u001b[38;5;21;01m.\u001b[39;00m\u001b[38;5;21;01moffline\u001b[39;00m \u001b[38;5;28;01mas\u001b[39;00m \u001b[38;5;21;01mpy\u001b[39;00m\n\u001b[0;32m     14\u001b[0m py\u001b[38;5;241m.\u001b[39minit_notebook_mode(connected\u001b[38;5;241m=\u001b[39m\u001b[38;5;28;01mTrue\u001b[39;00m)\n",
      "\u001b[1;31mModuleNotFoundError\u001b[0m: No module named 'plotly'"
     ]
    }
   ],
   "source": [
    "#For reading and manipulating the data\n",
    "import pandas as pd \n",
    "import numpy as np \n",
    "from pandas import Series,DataFrame\n",
    "\n",
    "#for visualization\n",
    "import matplotlib.pyplot as plt \n",
    "import seaborn as sns \n",
    "sns.set_style('whitegrid')\n",
    "%matplotlib inline \n",
    "\n",
    "import plotly\n",
    "import plotly.offline as py\n",
    "py.init_notebook_mode(connected=True)\n",
    "import plotly.graph_objs as go\n",
    "import plotly.tools as tls"
   ]
  },
  {
   "cell_type": "code",
   "execution_count": null,
   "metadata": {},
   "outputs": [],
   "source": [
    "oil = pd.read_csv(\"../input/pipeline-accidents/database.csv\")"
   ]
  },
  {
   "cell_type": "code",
   "execution_count": null,
   "metadata": {},
   "outputs": [],
   "source": [
    "#looking at initial records in dataset\n",
    "oil.head()"
   ]
  },
  {
   "cell_type": "code",
   "execution_count": null,
   "metadata": {},
   "outputs": [],
   "source": [
    "#shaping of the dataframe\n",
    "oil.shape"
   ]
  },
  {
   "cell_type": "code",
   "execution_count": null,
   "metadata": {},
   "outputs": [],
   "source": [
    "#getting more info on the dataset\n",
    "\n",
    "oil.info()"
   ]
  },
  {
   "cell_type": "code",
   "execution_count": null,
   "metadata": {},
   "outputs": [],
   "source": [
    "oil.describe()"
   ]
  },
  {
   "cell_type": "code",
   "execution_count": null,
   "metadata": {},
   "outputs": [],
   "source": [
    "main_causes = oil['Cause Category'].value_counts()\n",
    "main_causes = go.Bar(\n",
    "   y = main_causes.values, \n",
    "   x = main_causes.index.values, \n",
    "   name = 'Causes Category Count', \n",
    "     marker=dict(\n",
    "        color=main_causes.values,\n",
    "        colorscale = 'Viridis',\n",
    "        reversescale = True\n",
    "        )\n",
    "\n",
    ")\n",
    "\n",
    "data = [main_causes]\n",
    "\n",
    "layout = go.Layout (\n",
    "title = 'Cause of Oil Spillage', \n",
    "width = 800, \n",
    "margin=go.Margin(b=140, r= 180)\n",
    ")\n",
    "\n",
    "fig = go.Figure(data=data, layout=layout)\n",
    "py.iplot(fig)\n"
   ]
  },
  {
   "cell_type": "code",
   "execution_count": null,
   "metadata": {},
   "outputs": [],
   "source": [
    "main_causes_sub = oil['Cause Subcategory'].value_counts()\n",
    "main_causes_sub = go.Bar(\n",
    "   y = main_causes_sub.values, \n",
    "   x = main_causes_sub.index.values, \n",
    "   name = 'Causes Subcategory Count', \n",
    "     marker=dict(\n",
    "        color=main_causes_sub.values,\n",
    "        colorscale = 'Viridis',\n",
    "        reversescale = True\n",
    "        )\n",
    "    \n",
    ")\n",
    "\n",
    "data = [main_causes_sub]\n",
    "\n",
    "\n",
    "layout = go.Layout (\n",
    "title = 'Cause Sub Category', \n",
    "height= 1000,\n",
    "width = 1200, \n",
    "margin=go.Margin(b=10, r=150)\n",
    ")\n",
    "fig = go.Figure(data=data, layout=layout)\n",
    "py.iplot(fig, filename='basic-bar')"
   ]
  },
  {
   "cell_type": "code",
   "execution_count": null,
   "metadata": {},
   "outputs": [],
   "source": [
    "sns.countplot(oil['Pipeline Type'])"
   ]
  },
  {
   "cell_type": "code",
   "execution_count": null,
   "metadata": {},
   "outputs": [],
   "source": [
    "oil_pipelinetype_cost = oil[['Pipeline Type','All Costs']]\n",
    "sns.barplot(x='Pipeline Type',y='All Costs',data= oil_pipelinetype_cost)"
   ]
  },
  {
   "cell_type": "code",
   "execution_count": null,
   "metadata": {},
   "outputs": [],
   "source": [
    "# Scale costs to $1M for plot clarity\n",
    "df2 = oil.copy()\n",
    "df2['All Costs'] = df2['All Costs']/1000000.0\n",
    "df2['Property Damage Costs'] = df2['Property Damage Costs']/1000000.0\n",
    "df2['Lost Commodity Costs'] = df2['Lost Commodity Costs']/1000000.0\n",
    "df2['Public/Private Property Damage Costs'] = df2['Public/Private Property Damage Costs']/1000000.0\n",
    "df2['Emergency Response Costs'] = df2['Emergency Response Costs']/1000000.0\n",
    "df2['Environmental Remediation Costs'] = df2['Environmental Remediation Costs']/1000000.0\n",
    "df2['Other Costs'] = df2['Other Costs']/1000000.0"
   ]
  },
  {
   "cell_type": "code",
   "execution_count": null,
   "metadata": {},
   "outputs": [],
   "source": [
    "# Some calculations to plot distributions by year\n",
    "\n",
    "headers = ['Accident Year','All Costs','Property Damage Costs',\n",
    "           'Lost Commodity Costs','Public/Private Property Damage Costs',\n",
    "           'Emergency Response Costs','Environmental Remediation Costs', 'Other Costs']\n",
    "df_forPlots = df2[headers]\n",
    "df_forPlots = df_forPlots[df_forPlots['Accident Year'] != 2017]\n",
    "by_year = df_forPlots.groupby('Accident Year')\n",
    "\n",
    "xPt = by_year.sum()['All Costs'].index.values\n",
    "yAll_sum = by_year.sum()['All Costs'].values\n",
    "yPro_sum = by_year.sum()['Property Damage Costs'].values\n",
    "yCom_sum = by_year.sum()['Lost Commodity Costs'].values\n",
    "yPri_sum = by_year.sum()['Public/Private Property Damage Costs'].values\n",
    "yEme_sum = by_year.sum()['Emergency Response Costs'].values\n",
    "yEnv_sum = by_year.sum()['Environmental Remediation Costs'].values\n",
    "\n",
    "fracProp = by_year.mean()['Property Damage Costs'].values / by_year.mean()['All Costs'].values\n",
    "fracComm = by_year.mean()['Lost Commodity Costs'].values / by_year.mean()['All Costs'].values\n",
    "fracPriP = by_year.mean()['Public/Private Property Damage Costs'].values / by_year.mean()['All Costs'].values\n",
    "fracEmer = by_year.mean()['Emergency Response Costs'].values / by_year.mean()['All Costs'].values\n",
    "fracEnvi = by_year.mean()['Environmental Remediation Costs'].values / by_year.mean()['All Costs'].values"
   ]
  },
  {
   "cell_type": "code",
   "execution_count": null,
   "metadata": {},
   "outputs": [],
   "source": [
    "\n",
    "f, a = plt.subplots(nrows=1, ncols=2, figsize=(13,5))\n",
    "\n",
    "a[0].plot(xPt, yAll_sum, label=\"All\", color='black')\n",
    "a[0].plot(xPt, yEme_sum,label=\"Emergency\", color='orange')\n",
    "a[0].plot(xPt, yEnv_sum,label=\"Environment\", color='yellow')\n",
    "a[0].plot(xPt, yPro_sum,label=\"Property\", color='darkblue')\n",
    "a[0].plot(xPt, yCom_sum,label=\"Commodity\", color='darkred')\n",
    "a[0].plot(xPt, yPri_sum,label=\"Public/Private Prop.\", color='darkgreen')\n",
    "a[0].fill_between(xPt, yAll_sum, 10E0, facecolor='black', alpha=0.1)\n",
    "a[0].fill_between(xPt, yPro_sum, 10E0, facecolor='darkblue', alpha=0.1)\n",
    "a[0].fill_between(xPt, yCom_sum, 10E0, facecolor='darkred', alpha=0.1)\n",
    "a[0].fill_between(xPt, yPri_sum, 10E0, facecolor='darkgreen', alpha=0.1)\n",
    "a[0].fill_between(xPt, yEme_sum, 10E0, facecolor='orange', alpha=0.1)\n",
    "a[0].fill_between(xPt, yEnv_sum, 10E0, facecolor='yellow', alpha=0.1)\n",
    "a[0].get_xaxis().get_major_formatter().set_useOffset(False)\n",
    "a[0].set_xlabel('Year', fontsize=16)\n",
    "a[0].set_ylabel('Sum Cost ($Million)', fontsize=16)\n",
    "a[0].legend()\n",
    "\n",
    "\n",
    "a[1].plot(xPt, fracEmer,label=\"Emergency\", color='orange')\n",
    "a[1].plot(xPt, fracEnvi,label=\"Environment\", color='yellow')\n",
    "a[1].plot(xPt, fracProp,label=\"Property\", color='darkblue')\n",
    "a[1].plot(xPt, fracComm,label=\"Commodity\", color='darkred')\n",
    "a[1].plot(xPt, fracPriP,label=\"Public/Private Prop.\", color='darkgreen')\n",
    "a[1].fill_between(xPt, fracProp, 0, facecolor='darkblue', alpha=0.1)\n",
    "a[1].fill_between(xPt, fracComm, 0, facecolor='darkred', alpha=0.1)\n",
    "a[1].fill_between(xPt, fracPriP, 0, facecolor='darkgreen', alpha=0.1)\n",
    "a[1].fill_between(xPt, fracEmer, 0, facecolor='orange', alpha=0.1)\n",
    "a[1].fill_between(xPt, fracEnvi, 0, facecolor='yellow', alpha=0.1)\n",
    "a[1].get_xaxis().get_major_formatter().set_useOffset(False)\n",
    "a[1].set_xlabel('Year', fontsize=16)\n",
    "a[1].set_ylabel('Fraction of the Total Cost', fontsize=16)\n",
    "a[1].set_ylim([0,1])\n",
    "tmp = a[1].legend()\n"
   ]
  },
  {
   "cell_type": "code",
   "execution_count": null,
   "metadata": {},
   "outputs": [],
   "source": [
    "df3 = df2.copy()\n",
    "df3['Month'] = df3['Accident Date/Time'].apply(lambda x: (str(x)[0:2]))\n",
    "df3['Month'] = df3['Month'].apply(lambda x: int(''.join(c for c in x if c.isdigit())))\n",
    "df3['Rel Month'] = (df3['Accident Year']-2010)*12. + df3['Month']\n",
    "\n",
    "headers = headers = ['Accident Year','All Costs','Property Damage Costs',\n",
    "           'Lost Commodity Costs','Public/Private Property Damage Costs',\n",
    "           'Emergency Response Costs','Environmental Remediation Costs', \n",
    "            'Other Costs', 'Rel Month']\n",
    "by_month = df3[headers].groupby(['Rel Month'])\n",
    "\n",
    "\n",
    "xPt = by_month.sum()['All Costs'].index.values\n",
    "yAll_sum = by_month.sum()['All Costs'].values\n",
    "yPro_sum = by_month.sum()['Property Damage Costs'].values\n",
    "yCom_sum = by_month.sum()['Lost Commodity Costs'].values\n",
    "yPri_sum = by_month.sum()['Public/Private Property Damage Costs'].values\n",
    "yEme_sum = by_month.sum()['Emergency Response Costs'].values\n",
    "yEnv_sum = by_month.sum()['Environmental Remediation Costs'].values\n",
    "\n",
    "fracProp = by_month.mean()['Property Damage Costs'].values / by_month.mean()['All Costs'].values\n",
    "fracComm = by_month.mean()['Lost Commodity Costs'].values / by_month.mean()['All Costs'].values\n",
    "fracPriP = by_month.mean()['Public/Private Property Damage Costs'].values / by_month.mean()['All Costs'].values\n",
    "fracEmer = by_month.mean()['Emergency Response Costs'].values / by_month.mean()['All Costs'].values\n",
    "fracEnvi = by_month.mean()['Environmental Remediation Costs'].values / by_month.mean()['All Costs'].values"
   ]
  },
  {
   "cell_type": "code",
   "execution_count": null,
   "metadata": {},
   "outputs": [],
   "source": [
    "fig = plt.figure(figsize=(11,8))\n",
    "ax = fig.add_subplot(111)\n",
    "\n",
    "plt.plot(xPt, yAll_sum, label=\"All\", color='black')\n",
    "plt.plot(xPt, yEme_sum,label=\"Emergency\", color='orange')\n",
    "plt.plot(xPt, yEnv_sum,label=\"Environment\", color='yellow')\n",
    "plt.plot(xPt, yPro_sum,label=\"Property\", color='darkblue')\n",
    "plt.plot(xPt, yCom_sum,label=\"Commodity\", color='darkred')\n",
    "plt.plot(xPt, yPri_sum,label=\"Public/Private Prop.\", color='darkgreen')\n",
    "plt.fill_between(xPt, yAll_sum, 10E0, facecolor='black', alpha=0.1)\n",
    "plt.fill_between(xPt, yPro_sum, 10E0, facecolor='darkblue', alpha=0.1)\n",
    "plt.fill_between(xPt, yCom_sum, 10E0, facecolor='darkred', alpha=0.1)\n",
    "plt.fill_between(xPt, yPri_sum, 10E0, facecolor='darkgreen', alpha=0.1)\n",
    "plt.fill_between(xPt, yEme_sum, 10E0, facecolor='orange', alpha=0.1)\n",
    "plt.fill_between(xPt, yEnv_sum, 10E0, facecolor='yellow', alpha=0.1)\n",
    "ax.get_xaxis().get_major_formatter().set_useOffset(False)\n",
    "plt.xlabel('Relative Month (starting from Jan. 2010)', fontsize=19)\n",
    "plt.ylabel('Sum Cost ($Millions)', fontsize=19)\n",
    "tmp = plt.legend()\n",
    "ax.text(9,600, \"$840 Million Cost\\nEnbridge Energy\\nMarshall, MI\",fontsize=11)\n",
    "ax.text(13,160, \"$135 Million Cost\\nExxonMobil\\nLaurel, MT\",fontsize=11)\n",
    "ax.text(35,160, \"$91 Million Cost\\nMobil\\nMayflower, AR\",fontsize=11)\n",
    "ax.text(58,190, \"$143 Million Cost\\nPlains Pipeline Co\\nGoleta, CA\",fontsize=11)\n",
    "ax.text(73,100, \"$66 Million Cost\\nColonial Pipeline\\nHelena, AL\",fontsize=11)"
   ]
  },
  {
   "cell_type": "code",
   "execution_count": null,
   "metadata": {},
   "outputs": [],
   "source": [
    "#### MOST COMMON OPERATORS\n",
    "import collections as col\n",
    "CCC = col.Counter(df['Operator ID'].values)\n",
    "ids = [x[0] for x in CCC.most_common(20)]\n",
    "\n",
    "hXvalue = []\n",
    "hValues = []\n",
    "hLabels = []\n",
    "# Need to link the operator Id to the operator name, this isn't a 1-to-1 relationship\n",
    "for j, i  in enumerate(ids):\n",
    "    #print df['Operator Name'].loc[df['Operator ID'] == i].unique(), CCC[i]\n",
    "    hXvalue.append(j+1)\n",
    "    hValues.append(CCC[i])\n",
    "    hLabels.append(\" or \".join(df['Operator Name'].loc[df['Operator ID'] == i].unique()))\n",
    "\n",
    "    \n",
    "#### MOST COMMON SPILL CAUSES\n",
    "DDD = col.Counter(df['Cause Category'].values)\n",
    "ids2 = [x[0] for x in DDD.most_common(20)]\n",
    "\n",
    "hXvalue2 = []\n",
    "hValues2 = []\n",
    "hLabels2 = []\n",
    "for j, i  in enumerate(ids2):\n",
    "    hXvalue2.append(j+1)\n",
    "    hValues2.append(DDD[i])\n",
    "    hLabels2.append(i)    \n",
    "fig = plt.figure(figsize=(7, 7))\n",
    "plt.barh(hXvalue[::-1], hValues, align='center', color='forestgreen')\n",
    "plt.ylim([0,len(hValues)+1])\n",
    "plt.title('Top 20 Most Frequent \\'Spillers\\' (Operator)', fontsize=20, y=1.04)\n",
    "y = plt.yticks(hXvalue[::-1], hLabels, fontsize=10)\n",
    "x = plt.xlabel('Number of Spills', fontsize=16)\n",
    "x2 = plt.xticks(fontsize=10)"
   ]
  },
  {
   "cell_type": "code",
   "execution_count": null,
   "metadata": {},
   "outputs": [],
   "source": [
    "fig = plt.figure(figsize=(7, 8))\n",
    "plt.barh(hXvalue2[::-1], hValues2, align='center', color='peru')\n",
    "plt.ylim([0,len(hValues2)+1])\n",
    "plt.title('Top 20 Most Frequent Spill Causes', fontsize=20, y=1.04)\n",
    "y = plt.yticks(hXvalue2[::-1], hLabels2, fontsize=15)\n",
    "x = plt.xlabel('Number of Spills', fontsize=16)\n",
    "x2 = plt.xticks(fontsize=10)"
   ]
  },
  {
   "cell_type": "code",
   "execution_count": null,
   "metadata": {},
   "outputs": [],
   "source": [
    "f, a = plt.subplots(nrows=3, ncols=1, figsize=(8,12), sharex=True)\n",
    "f.subplots_adjust(hspace=0.)\n",
    "\n",
    "a[0].scatter(df['Net Loss (Barrels)'].values,\n",
    "              df['All Costs'].values, \n",
    "              label=\"All\", color='darkred')\n",
    "a[0].set_yscale('log')\n",
    "a[0].set_ylim(0.1,4e9)\n",
    "a[0].set_xscale('log')\n",
    "a[0].set_xlim(0.001,100000)\n",
    "a[0].set_ylabel('Cost', fontsize=15)\n",
    "a[1].scatter(df['Net Loss (Barrels)'].values,\n",
    "              df['Environmental Remediation Costs'].values, \n",
    "              label=\"All\", color='darkblue')\n",
    "a[1].set_yscale('log')\n",
    "a[1].set_ylim(0.1,4e9)\n",
    "a[1].set_xscale('log')\n",
    "a[1].set_xlim(0.001,100000)\n",
    "a[1].set_ylabel('Cost', fontsize=15)\n",
    "a[2].scatter(df['Net Loss (Barrels)'].values,\n",
    "              df['Emergency Response Costs'].values, \n",
    "              label=\"All\", color='darkgreen')\n",
    "a[2].set_yscale('log')\n",
    "a[2].set_ylim(0.1,4e9)\n",
    "a[2].set_xscale('log')\n",
    "a[2].set_xlim(0.001,100000)\n",
    "a[2].set_ylabel('Cost', fontsize=15)\n",
    "a[2].set_xlabel('Net Loss (Barrels)', fontsize=13)\n",
    "a[0].text(0.005, 1e8, \"All Costs\", fontsize=18, color='darkred')\n",
    "a[1].text(0.005, 1e8, \"Environmental Costs\", fontsize=18, color='darkblue')\n",
    "a[2].text(0.005, 1e8, \"Emergency Costs\", fontsize=18, color='darkgreen')"
   ]
  }
 ],
 "metadata": {
  "kernelspec": {
   "display_name": "base",
   "language": "python",
   "name": "python3"
  },
  "language_info": {
   "codemirror_mode": {
    "name": "ipython",
    "version": 3
   },
   "file_extension": ".py",
   "mimetype": "text/x-python",
   "name": "python",
   "nbconvert_exporter": "python",
   "pygments_lexer": "ipython3",
   "version": "3.11.5"
  }
 },
 "nbformat": 4,
 "nbformat_minor": 2
}
